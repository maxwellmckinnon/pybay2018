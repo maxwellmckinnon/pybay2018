{
 "cells": [
  {
   "cell_type": "markdown",
   "metadata": {},
   "source": [
    "# PyBay 2018 -- Parsing Clinic\n",
    "\n",
    "Copyright(c) 2018 Raymond Hettinger\n",
    "All Rights Reserved"
   ]
  },
  {
   "cell_type": "markdown",
   "metadata": {},
   "source": [
    "Description\n",
    "------------\n",
    "\n",
    "Know some Python basics and want to learn more about how to Parse Data? Please register separately for this workshop with Raymond Hettinger, seasoned Python Trainer and core Python developer for 17+ years.\n",
    "\n",
    "Abstract\n",
    "----------\n",
    "\n",
    "* Learn to harvest data in many forms\n",
    "* Load a variety of CSV dialects. Learn to use the Sniffer and how to handle common problems\n",
    "* Load and generate JSON data. Learn to pretty print or minify JSON.\n",
    "* Learn to handle binary data inside JSON using Base64 or Latin-1 encodings.\n",
    "* Use ElementTree and LXML to parse XML files. Learn to handle namespaces and how to use XPATH selectors.\n",
    "* Parse HTML using BeautifulSoup.\n",
    "* Hand edit and read YAML files. Learn the advantages and disadvantages of this format.\n",
    "* Parse binary data (such as IP packet headers) using the struct module.\n",
    "* Parse column oriented text using both splitting and slicing strategies.\n",
    "* Discuss security risks for pickles, XML, YAML, and even plain text.\n",
    "* Time permitting, introduce Pandas for data loading and clean-up\n",
    "* Time permitting, discuss strategies for building regexes to parse complex data layouts\n",
    "* Time permitting, show regex strategies for parsing natural text and introduce NLTK\n",
    "* Who should attend?\n",
    "* This is a workshop for beginners to intermediate level. You should know some Python basics already.\n"
   ]
  },
  {
   "cell_type": "markdown",
   "metadata": {},
   "source": [
    "Materials link:  http://bit.ly/pybay2018-core"
   ]
  },
  {
   "cell_type": "code",
   "execution_count": null,
   "metadata": {
    "collapsed": true
   },
   "outputs": [],
   "source": []
  }
 ],
 "metadata": {
  "kernelspec": {
   "display_name": "Python 3",
   "language": "python",
   "name": "python3"
  },
  "language_info": {
   "codemirror_mode": {
    "name": "ipython",
    "version": 3
   },
   "file_extension": ".py",
   "mimetype": "text/x-python",
   "name": "python",
   "nbconvert_exporter": "python",
   "pygments_lexer": "ipython3",
   "version": "3.6.2"
  }
 },
 "nbformat": 4,
 "nbformat_minor": 2
}
