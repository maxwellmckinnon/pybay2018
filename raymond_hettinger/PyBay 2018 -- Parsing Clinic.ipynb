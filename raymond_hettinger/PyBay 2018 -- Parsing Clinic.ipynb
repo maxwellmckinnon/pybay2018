{
 "cells": [
  {
   "cell_type": "markdown",
   "metadata": {},
   "source": [
    "# PyBay 2018 -- Parsing Clinic\n",
    "\n",
    "Copyright(c) 2018 Raymond Hettinger\n",
    "All Rights Reserved"
   ]
  },
  {
   "cell_type": "markdown",
   "metadata": {},
   "source": [
    "Description\n",
    "------------\n",
    "\n",
    "Know some Python basics and want to learn more about how to Parse Data? Please register separately for this workshop with Raymond Hettinger, seasoned Python Trainer and core Python developer for 17+ years.\n",
    "\n",
    "Abstract\n",
    "----------\n",
    "\n",
    "* Learn to harvest data in many forms\n",
    "* Load a variety of CSV dialects. Learn to use the Sniffer and how to handle common problems\n",
    "* Load and generate JSON data. Learn to pretty print or minify JSON.\n",
    "* Learn to handle binary data inside JSON using Base64 or Latin-1 encodings.\n",
    "* Use ElementTree and LXML to parse XML files. Learn to handle namespaces and how to use XPATH selectors.\n",
    "* Parse HTML using BeautifulSoup.\n",
    "* Hand edit and read YAML files. Learn the advantages and disadvantages of this format.\n",
    "* Parse binary data (such as IP packet headers) using the struct module.\n",
    "* Parse column oriented text using both splitting and slicing strategies.\n",
    "* Discuss security risks for pickles, XML, YAML, and even plain text.\n",
    "* Time permitting, introduce Pandas for data loading and clean-up\n",
    "* Time permitting, discuss strategies for building regexes to parse complex data layouts\n",
    "* Time permitting, show regex strategies for parsing natural text and introduce NLTK\n",
    "* Who should attend?\n",
    "* This is a workshop for beginners to intermediate level. You should know some Python basics already.\n"
   ]
  },
  {
   "cell_type": "markdown",
   "metadata": {},
   "source": [
    "Materials link:  http://bit.ly/pybay2018-core"
   ]
  },
  {
   "cell_type": "markdown",
   "metadata": {},
   "source": [
    "## Column-oriented text\n",
    "\n",
    "It has straight lines vertically because humans benefit from straight-lines.\n",
    "\n",
    "So, we know this data is for humans.\n",
    "\n",
    "**Key Learning Point:** Parsing column-oriented text intended for humans is not fast, not easy, not fun, and not reliable.\n",
    "\n",
    "* Some data may be missing.  This confuses str.split() and unpacking\n",
    "* Some data may contain spaces.    This confuses str.split() and unpacking\n",
    "* ANSI.sys color codes\n",
    "* Page breaks\n",
    "* Line wrapping\n",
    "* Page numbers\n",
    "* Subtotals\n",
    "* Column alignments shifts between runs\n",
    "\n",
    "Strategies:\n",
    "\n",
    "1. Figure-out how a human would correctly mentally parse the data and teach the computer to do that.\n",
    "\n",
    "2. Anti-Nike rule:  Just don't do it.  This data was meant to be parsed by a computer. Instead, get better data:  XML, YAML, CSV, JSON, PyProtocols, Binary structs, ..."
   ]
  },
  {
   "cell_type": "code",
   "execution_count": 46,
   "metadata": {},
   "outputs": [
    {
     "name": "stdout",
     "output_type": "stream",
     "text": [
      "51.51.51.51     Loopback0\n",
      "1.20.30.40      MgmtEth0/RSP0/CPU0/0\n",
      "unassigned      MgmtEth0/RSP1/CPU0/0\n",
      "unassigned      GigabitEthernet0/3/0/1\n",
      "unassigned      GigabitEthernet0/3/0/3\n",
      "unassigned      TenGigE0/3/1/0\n",
      "unassigned      TenGigE0/3/1/3\n",
      "unassigned      TenGigE0/4/0/0\n",
      "111.1.1.1       TenGigE0/5/1/1\n",
      "unassigned      GigabitEthernet 0/7/0/15\n"
     ]
    }
   ],
   "source": [
    "with open('data/ipv4_int_bri.txt') as f:\n",
    "    it = iter(f)\n",
    "    header = next(it)\n",
    "    interface_start = header.index('Interface')\n",
    "    ipaddr_start = header.index('IP-Address')\n",
    "    status_start = header.index('Status')\n",
    "    protocol_start = header.index('Protocol')\n",
    "    for line in it:\n",
    "        # line = line.rstrip()\n",
    "        # interface, ipaddr, status, protocol = line.split()\n",
    "        interface = line[interface_start : ipaddr_start].rstrip()\n",
    "        ipaddr = line[ipaddr_start : status_start].rstrip()\n",
    "        status = line[status_start : protocol_start].rstrip()\n",
    "        protocol = line[protocol_start :].rstrip()\n",
    "        if status.lower() == 'up':\n",
    "            print('%-15s %s' % (ipaddr, interface))"
   ]
  },
  {
   "cell_type": "code",
   "execution_count": 18,
   "metadata": {},
   "outputs": [
    {
     "data": {
      "text/plain": [
       "'Hello  \\t World'"
      ]
     },
     "execution_count": 18,
     "metadata": {},
     "output_type": "execute_result"
    }
   ],
   "source": [
    "# How strip works        (it many languages it is called trim() -- Perl calls it chomp() )\n",
    "s = '   Hello  \\t World  \\t  \\n'\n",
    "t = s.strip()\n",
    "t"
   ]
  },
  {
   "cell_type": "code",
   "execution_count": 12,
   "metadata": {},
   "outputs": [
    {
     "data": {
      "text/plain": [
       "['The Tale of Two Cities\\n',\n",
       " 'It was the best of times\\n',\n",
       " 'it was the worst of times\\n',\n",
       " 'the summer of hope\\n',\n",
       " 'and winter of despair\\n']"
      ]
     },
     "execution_count": 12,
     "metadata": {},
     "output_type": "execute_result"
    }
   ],
   "source": [
    "# How splitlines() work\n",
    "s = '''The Tale of Two Cities\n",
    "It was the best of times\n",
    "it was the worst of times\n",
    "the summer of hope\n",
    "and winter of despair\n",
    "'''\n",
    "\n",
    "s.splitlines(True)"
   ]
  },
  {
   "cell_type": "code",
   "execution_count": 22,
   "metadata": {},
   "outputs": [
    {
     "data": {
      "text/plain": [
       "11"
      ]
     },
     "execution_count": 22,
     "metadata": {},
     "output_type": "execute_result"
    }
   ],
   "source": [
    "x = 10\n",
    "x = x + 1\n",
    "x"
   ]
  },
  {
   "cell_type": "code",
   "execution_count": 41,
   "metadata": {},
   "outputs": [
    {
     "name": "stdout",
     "output_type": "stream",
     "text": [
      "First person: manny\n",
      "MO\n",
      "JACK\n"
     ]
    }
   ],
   "source": [
    "# Technique of passing around partially consumed iterators\n",
    "names = ['manny', 'mo', 'jack']\n",
    "it = iter(names)\n",
    "print('First person:', next(it))\n",
    "for name in it:\n",
    "    print(name.upper())"
   ]
  },
  {
   "cell_type": "code",
   "execution_count": 43,
   "metadata": {},
   "outputs": [
    {
     "data": {
      "text/plain": [
       "9"
      ]
     },
     "execution_count": 43,
     "metadata": {},
     "output_type": "execute_result"
    }
   ],
   "source": [
    "# How to locate text\n",
    "s = 'The tale of two cities'\n",
    "s.index('of')"
   ]
  },
  {
   "cell_type": "code",
   "execution_count": 44,
   "metadata": {},
   "outputs": [
    {
     "data": {
      "text/plain": [
       "'of'"
      ]
     },
     "execution_count": 44,
     "metadata": {},
     "output_type": "execute_result"
    }
   ],
   "source": [
    "s[9:11]"
   ]
  },
  {
   "cell_type": "markdown",
   "metadata": {},
   "source": [
    "# CSV"
   ]
  },
  {
   "cell_type": "code",
   "execution_count": 15,
   "metadata": {},
   "outputs": [
    {
     "name": "stdout",
     "output_type": "stream",
     "text": [
      "Raymond Hettinger\n",
      "Mary Thomas\n",
      "Harold Davis\n",
      "Martin Masterson\n",
      "David Jones\n",
      "Luis Zapata\n",
      "Fritz Gunter\n",
      "Esmerela Pichon\n",
      "Marilyn Blain\n",
      "Blair Marks\n",
      "David Jones\n",
      "Harold Davis\n",
      "Gertrude Schmidt\n"
     ]
    }
   ],
   "source": [
    "with open('data/raisin_team.csv') as f:\n",
    "    for line in f:\n",
    "        line = line.rstrip()\n",
    "        lastname, firstname, title, email, phone = line.split(',')\n",
    "        print(firstname, lastname)"
   ]
  },
  {
   "cell_type": "code",
   "execution_count": 17,
   "metadata": {},
   "outputs": [
    {
     "name": "stdout",
     "output_type": "stream",
     "text": [
      "\"Raymond\" Hettinger\n",
      "\"Mary\" Thomas\n",
      "\"Harold\" Davis\n",
      "\"Martin\" Masterson\n",
      "\"David\" Jones\n",
      "\"Luis\" Zapata\n",
      "\"Fritz\" Gunter\n",
      "\"Esmerela\" Pichon\n",
      "\"Marilyn\" Blain\n",
      "\"Blair\" Marks\n",
      "\"David\" Jones\n",
      "\"Harold\" Davis\n",
      "\"Gertrude\" Schmidt\n"
     ]
    }
   ],
   "source": [
    "with open('data/raisin_team_update.csv') as f:\n",
    "    for line in f:\n",
    "        line = line.rstrip()\n",
    "        lastname, firstname, title, email, phone = line.split(',')\n",
    "        lastname = lastname.strip('\"')\n",
    "        print(firstname, lastname)"
   ]
  },
  {
   "cell_type": "code",
   "execution_count": 18,
   "metadata": {},
   "outputs": [
    {
     "name": "stdout",
     "output_type": "stream",
     "text": [
      "Raymond Hettinger\n",
      "Mary Thomas\n",
      "Harold Davis\n",
      "Martin Masterson\n",
      "David Jones\n",
      "Luis Zapata\n",
      "Fritz Gunter\n",
      "Esmerela Pichon\n",
      "Marilyn Blain\n",
      "Blair Marks\n",
      "David Jones\n",
      "Harold Davis\n",
      "Gertrude Schmidt\n"
     ]
    }
   ],
   "source": [
    "import csv\n",
    "\n",
    "with open('data/raisin_team_update.csv') as f:\n",
    "    for lastname, firstname, title, email, phone in csv.reader(f):\n",
    "        print(firstname, lastname)"
   ]
  },
  {
   "cell_type": "code",
   "execution_count": null,
   "metadata": {
    "collapsed": true
   },
   "outputs": [],
   "source": []
  }
 ],
 "metadata": {
  "kernelspec": {
   "display_name": "Python 3",
   "language": "python",
   "name": "python3"
  },
  "language_info": {
   "codemirror_mode": {
    "name": "ipython",
    "version": 3
   },
   "file_extension": ".py",
   "mimetype": "text/x-python",
   "name": "python",
   "nbconvert_exporter": "python",
   "pygments_lexer": "ipython3",
   "version": "3.6.2"
  }
 },
 "nbformat": 4,
 "nbformat_minor": 2
}
